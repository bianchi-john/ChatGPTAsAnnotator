{
 "cells": [
  {
   "cell_type": "code",
   "execution_count": 4,
   "metadata": {},
   "outputs": [],
   "source": [
    "import pandas as pd\n",
    "\n",
    "\n",
    "target = pd.read_csv('../merged_checked.csv')\n",
    "\n",
    "toMerge =  pd.read_csv('../../Query/output/1_3.csv')"
   ]
  },
  {
   "cell_type": "code",
   "execution_count": 5,
   "metadata": {},
   "outputs": [],
   "source": [
    "# Merge dei due dataframe basato su 'id' e 'annotator'\n",
    "merged_df = target.merge(toMerge[['id', 'annotator', 'Q1.3']], on=['id', 'annotator'], how='left', suffixes=('', '_toMerge'))\n",
    "\n",
    "# Aggiornamento della colonna 'Q1.3' nel dataframe target\n",
    "target['Q1.3'] = merged_df['Q1.3_toMerge'].combine_first(merged_df['Q1.3'])\n"
   ]
  },
  {
   "cell_type": "code",
   "execution_count": 6,
   "metadata": {},
   "outputs": [],
   "source": [
    "target.to_csv('../merged_checked.csv')"
   ]
  },
  {
   "cell_type": "code",
   "execution_count": null,
   "metadata": {},
   "outputs": [],
   "source": []
  }
 ],
 "metadata": {
  "kernelspec": {
   "display_name": ".venv",
   "language": "python",
   "name": "python3"
  },
  "language_info": {
   "codemirror_mode": {
    "name": "ipython",
    "version": 3
   },
   "file_extension": ".py",
   "mimetype": "text/x-python",
   "name": "python",
   "nbconvert_exporter": "python",
   "pygments_lexer": "ipython3",
   "version": "3.12.3"
  }
 },
 "nbformat": 4,
 "nbformat_minor": 2
}
