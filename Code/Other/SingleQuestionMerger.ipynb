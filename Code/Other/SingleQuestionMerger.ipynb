{
 "cells": [
  {
   "cell_type": "code",
   "execution_count": 7,
   "metadata": {},
   "outputs": [
    {
     "name": "stdout",
     "output_type": "stream",
     "text": [
      "DONE\n"
     ]
    }
   ],
   "source": [
    "###############################################################\n",
    "# PLEASE, INDICATE THE COLUMN NAME TO MERGE HERE\n",
    "###############################################################\n",
    "columnName = 'Q1.7'\n",
    "###############################################################\n",
    "\n",
    "\n",
    "\n",
    "\n",
    "\n",
    "\n",
    "import pandas as pd\n",
    "\n",
    "target = pd.read_csv('../merged_checked.csv')\n",
    "\n",
    "toMerge =  pd.read_csv('../../Query/output/'+ columnName +'.csv')\n",
    "\n",
    "# Merge dei due dataframe basato su 'id' e 'annotator'\n",
    "merged_df = target.merge(toMerge[['id', 'annotator', columnName]], on=['id', 'annotator'], how='left', suffixes=('', '_toMerge'))\n",
    "\n",
    "# Aggiornamento della colonna 'Q1.3' nel dataframe target\n",
    "target[columnName] = merged_df[columnName + '_toMerge'].combine_first(merged_df[columnName])\n",
    "\n",
    "target.to_csv('../merged_checked.csv')\n",
    "\n",
    "print('DONE')"
   ]
  },
  {
   "cell_type": "code",
   "execution_count": null,
   "metadata": {},
   "outputs": [],
   "source": []
  }
 ],
 "metadata": {
  "kernelspec": {
   "display_name": ".venv",
   "language": "python",
   "name": "python3"
  },
  "language_info": {
   "codemirror_mode": {
    "name": "ipython",
    "version": 3
   },
   "file_extension": ".py",
   "mimetype": "text/x-python",
   "name": "python",
   "nbconvert_exporter": "python",
   "pygments_lexer": "ipython3",
   "version": "3.12.3"
  }
 },
 "nbformat": 4,
 "nbformat_minor": 2
}
