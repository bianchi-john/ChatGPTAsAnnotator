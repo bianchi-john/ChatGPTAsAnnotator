{
 "cells": [
  {
   "cell_type": "code",
   "execution_count": 16,
   "metadata": {},
   "outputs": [],
   "source": [
    "import sys\n",
    "import pandas as pd\n",
    "import numpy as np\n",
    "import matplotlib.pyplot as plt\n",
    "import sys\n",
    "sys.path.append('../../modules')\n",
    "from seeDistinctValues import seeDistinctValues\n",
    "import seaborn as sns\n",
    "from sklearn.metrics import accuracy_score, precision_score, recall_score, f1_score, balanced_accuracy_score, precision_recall_fscore_support, confusion_matrix, cohen_kappa_score\n",
    "from sklearn.preprocessing import LabelEncoder\n",
    "from sklearn.dummy import DummyClassifier\n",
    "from collections import Counter\n",
    "\n",
    "df = pd.read_csv('originalQuestion.csv')"
   ]
  },
  {
   "cell_type": "markdown",
   "metadata": {},
   "source": [
    "# Funzioni"
   ]
  },
  {
   "cell_type": "markdown",
   "metadata": {},
   "source": [
    "## Funzione classica per il calcolo del Kappa\n"
   ]
  },
  {
   "cell_type": "code",
   "execution_count": 17,
   "metadata": {},
   "outputs": [],
   "source": [
    "def inter_annotator_agreement(df, column_name, annotator1, annotator2, optional, numerical = False):\n",
    "    r\"\"\"\n",
    "    The inter_annotator_agreement function calculates the inter-annotator agreement between \n",
    "    two annotators for a given column in a DataFrame using Cohen's kappa score.\n",
    "    Parameters:\n",
    "        df: The DataFrame containing the annotation data.\n",
    "        column_name: The name of the column for which the agreement is being calculated.\n",
    "        annotator1: The name of the first annotator.\n",
    "        annotator2: The name of the second annotator.\n",
    "        optional: A boolean indicating whether missing values (or specific placeholder values) should be excluded from the analysis.\n",
    "        numerical: A boolean indicating whether the column contains numerical values.\n",
    "\n",
    "    \"\"\"\n",
    "    # Filter rows for the given annotators\n",
    "    df_annotator1 = df[df['annotator'] == annotator1]\n",
    "    df_annotator2 = df[df['annotator'] == annotator2]\n",
    "    \n",
    "    # Merge dataframes on the ID column\n",
    "    merged_df = df_annotator1.merge(df_annotator2, on='id')\n",
    "    \n",
    "    # Filter rows with non-missing values for the given column\n",
    "    merged_df = merged_df.dropna(subset=[column_name+'_x', column_name+'_y'])\n",
    "\n",
    "    # Rimuovo le righe vuote dal dataset degli annotatori\n",
    "    if (not optional):\n",
    "        merged_df = merged_df[merged_df[column_name+'_x'] != -1]\n",
    "        merged_df = merged_df[merged_df[column_name+'_x'] != '-1']\n",
    "        merged_df = merged_df[merged_df[column_name+'_y'] != -1]\n",
    "        merged_df = merged_df[merged_df[column_name+'_y'] != '-1']\n",
    "    \n",
    "    if (numerical):\n",
    "        agreement_score = cohen_kappa_score(merged_df[column_name+'_x'], merged_df[column_name+'_y'])\n",
    "    else:\n",
    "        # Converto le colonne in stringhe\n",
    "        merged_df[column_name + '_x'] = merged_df[column_name + '_x'].astype(str)\n",
    "        merged_df[column_name + '_y'] = merged_df[column_name + '_y'].astype(str)\n",
    "        agreement_score = cohen_kappa_score(merged_df[column_name+'_x'], merged_df[column_name+'_y'])\n",
    "\n",
    "    print('Kappa tra ' + annotator1 + ' e ' + annotator2 + ' per ' + column_name + ': ' + str(agreement_score))\n"
   ]
  },
  {
   "cell_type": "code",
   "execution_count": 18,
   "metadata": {},
   "outputs": [
    {
     "name": "stdout",
     "output_type": "stream",
     "text": [
      "Kappa tra Manuel e Marinella per Q1.1: 0.750770284149264\n",
      "Kappa tra Manuel e Angelo per Q1.1: 0.69375\n",
      "----------------------------------\n",
      "Kappa tra Manuel e ChatGPT4AsAnnotator per Q1.1: 0.3385856910465377\n",
      "Kappa tra Marinella e ChatGPT4AsAnnotator per Q1.1: 0.33369509920298457\n",
      "Kappa tra Angelo e ChatGPT4AsAnnotator per Q1.1: 0.38924510558262815\n"
     ]
    }
   ],
   "source": [
    "opzionale = False\n",
    "inter_annotator_agreement(df, 'Q1.1', 'Manuel', 'Marinella', opzionale)\n",
    "inter_annotator_agreement(df, 'Q1.1', 'Manuel', 'Angelo', opzionale)\n",
    "print('----------------------------------')\n",
    "inter_annotator_agreement(df, 'Q1.1', 'Manuel', 'ChatGPT4AsAnnotator', opzionale)\n",
    "inter_annotator_agreement(df, 'Q1.1', 'Marinella', 'ChatGPT4AsAnnotator', opzionale)\n",
    "inter_annotator_agreement(df, 'Q1.1', 'Angelo', 'ChatGPT4AsAnnotator', opzionale)\n"
   ]
  },
  {
   "cell_type": "markdown",
   "metadata": {},
   "source": [
    "# Q 1.2"
   ]
  },
  {
   "cell_type": "markdown",
   "metadata": {},
   "source": [
    "### K"
   ]
  },
  {
   "cell_type": "code",
   "execution_count": 19,
   "metadata": {},
   "outputs": [
    {
     "name": "stdout",
     "output_type": "stream",
     "text": [
      "Kappa tra Manuel e Marinella per Q1.2: 0.390973355084285\n",
      "Kappa tra Manuel e Angelo per Q1.2: 0.43096774193548393\n",
      "-------------------------\n",
      "Kappa tra Manuel e ChatGPT4AsAnnotator per Q1.2: 0.04379446640316198\n",
      "Kappa tra Marinella e ChatGPT4AsAnnotator per Q1.2: 0.04986912797906051\n",
      "Kappa tra Angelo e ChatGPT4AsAnnotator per Q1.2: -0.04412218451095318\n"
     ]
    }
   ],
   "source": [
    "opzionale = False\n",
    "numerica = True\n",
    "\n",
    "inter_annotator_agreement(df, 'Q1.2', 'Manuel', 'Marinella', opzionale, numerica)\n",
    "inter_annotator_agreement(df, 'Q1.2', 'Manuel', 'Angelo', opzionale, numerica)\n",
    "print ('-------------------------')\n",
    "inter_annotator_agreement(df, 'Q1.2', 'Manuel', 'ChatGPT4AsAnnotator', opzionale, numerica)\n",
    "inter_annotator_agreement(df, 'Q1.2', 'Marinella', 'ChatGPT4AsAnnotator', opzionale, numerica)\n",
    "inter_annotator_agreement(df, 'Q1.2', 'Angelo', 'ChatGPT4AsAnnotator', opzionale,numerica)\n"
   ]
  },
  {
   "cell_type": "markdown",
   "metadata": {},
   "source": [
    "# Q 1.3"
   ]
  },
  {
   "cell_type": "code",
   "execution_count": 20,
   "metadata": {},
   "outputs": [
    {
     "name": "stdout",
     "output_type": "stream",
     "text": [
      "Kappa tra Manuel e Marinella per Q1.3: 0.7197405004633921\n",
      "Kappa tra Manuel e Angelo per Q1.3: 0.5845012366034625\n",
      "----------------------------------\n",
      "Kappa tra Manuel e ChatGPT4AsAnnotator per Q1.3: 0.028683214349228936\n",
      "Kappa tra Marinella e ChatGPT4AsAnnotator per Q1.3: 0.033681732843892864\n",
      "Kappa tra Angelo e ChatGPT4AsAnnotator per Q1.3: 0.03728385535407397\n"
     ]
    }
   ],
   "source": [
    "opzionale = True\n",
    "\n",
    "inter_annotator_agreement(df, 'Q1.3', 'Manuel', 'Marinella', opzionale)\n",
    "inter_annotator_agreement(df, 'Q1.3', 'Manuel', 'Angelo', opzionale)\n",
    "print('----------------------------------')\n",
    "inter_annotator_agreement(df, 'Q1.3', 'Manuel', 'ChatGPT4AsAnnotator', opzionale)\n",
    "inter_annotator_agreement(df, 'Q1.3', 'Marinella', 'ChatGPT4AsAnnotator', opzionale)\n",
    "inter_annotator_agreement(df, 'Q1.3', 'Angelo', 'ChatGPT4AsAnnotator', opzionale)"
   ]
  },
  {
   "cell_type": "markdown",
   "metadata": {},
   "source": [
    "# Q 1.3.1"
   ]
  },
  {
   "cell_type": "code",
   "execution_count": 21,
   "metadata": {},
   "outputs": [
    {
     "name": "stdout",
     "output_type": "stream",
     "text": [
      "Kappa tra Manuel e Marinella per Q1.3.1: 0.5934343434343434\n",
      "Kappa tra Manuel e Angelo per Q1.3.1: 0.730712322976115\n",
      "----------------------------------\n",
      "Kappa tra Manuel e ChatGPT4AsAnnotator per Q1.3.1: 0.027027027027027084\n",
      "Kappa tra Marinella e ChatGPT4AsAnnotator per Q1.3.1: 0.01004818749315517\n",
      "Kappa tra Angelo e ChatGPT4AsAnnotator per Q1.3.1: 0.018628454452405352\n"
     ]
    }
   ],
   "source": [
    "opzionale = True\n",
    "\n",
    "inter_annotator_agreement(df, 'Q1.3.1', 'Manuel', 'Marinella', opzionale)\n",
    "inter_annotator_agreement(df, 'Q1.3.1', 'Manuel', 'Angelo', opzionale)\n",
    "print('----------------------------------')\n",
    "inter_annotator_agreement(df, 'Q1.3.1', 'Manuel', 'ChatGPT4AsAnnotator', opzionale)\n",
    "inter_annotator_agreement(df, 'Q1.3.1', 'Marinella', 'ChatGPT4AsAnnotator', opzionale)\n",
    "inter_annotator_agreement(df, 'Q1.3.1', 'Angelo', 'ChatGPT4AsAnnotator', opzionale)\n"
   ]
  },
  {
   "cell_type": "markdown",
   "metadata": {},
   "source": [
    "# Q 1.4"
   ]
  },
  {
   "cell_type": "code",
   "execution_count": 22,
   "metadata": {},
   "outputs": [
    {
     "name": "stdout",
     "output_type": "stream",
     "text": [
      "Kappa tra Manuel e Marinella per Q1.4: 0.5564005069708492\n",
      "Kappa tra Manuel e Angelo per Q1.4: 0.34613829357056214\n",
      "----------------------------------\n",
      "Kappa tra Manuel e ChatGPT4AsAnnotator per Q1.4: 0.0\n",
      "Kappa tra Marinella e ChatGPT4AsAnnotator per Q1.4: 0.0\n",
      "Kappa tra Angelo e ChatGPT4AsAnnotator per Q1.4: 0.0\n"
     ]
    }
   ],
   "source": [
    "opzionale = False\n",
    "\n",
    "inter_annotator_agreement(df, 'Q1.4', 'Manuel', 'Marinella', opzionale)\n",
    "inter_annotator_agreement(df, 'Q1.4', 'Manuel', 'Angelo', opzionale)\n",
    "print('----------------------------------')\n",
    "inter_annotator_agreement(df, 'Q1.4', 'Manuel', 'ChatGPT4AsAnnotator', opzionale)\n",
    "inter_annotator_agreement(df, 'Q1.4', 'Marinella', 'ChatGPT4AsAnnotator', opzionale)\n",
    "inter_annotator_agreement(df, 'Q1.4', 'Angelo', 'ChatGPT4AsAnnotator', opzionale)\n"
   ]
  },
  {
   "cell_type": "markdown",
   "metadata": {},
   "source": []
  },
  {
   "cell_type": "markdown",
   "metadata": {},
   "source": [
    "# Q 1.5"
   ]
  },
  {
   "cell_type": "code",
   "execution_count": 23,
   "metadata": {},
   "outputs": [
    {
     "name": "stdout",
     "output_type": "stream",
     "text": [
      "Kappa tra Manuel e Marinella per Q1.5: 0.42487990723869473\n",
      "Kappa tra Manuel e Angelo per Q1.5: 0.5138888888888888\n",
      "----------------------------------\n",
      "Kappa tra Manuel e ChatGPT4AsAnnotator per Q1.5: 0.2965442373801339\n",
      "Kappa tra Marinella e ChatGPT4AsAnnotator per Q1.5: 0.360999955037993\n",
      "Kappa tra Angelo e ChatGPT4AsAnnotator per Q1.5: 0.2970369950711007\n"
     ]
    }
   ],
   "source": [
    "opzionale = False\n",
    "numerica = True\n",
    "\n",
    "inter_annotator_agreement(df, 'Q1.5', 'Manuel', 'Marinella', opzionale, numerica)\n",
    "inter_annotator_agreement(df, 'Q1.5', 'Manuel', 'Angelo', opzionale, numerica)\n",
    "print('----------------------------------')\n",
    "inter_annotator_agreement(df, 'Q1.5', 'Manuel', 'ChatGPT4AsAnnotator', opzionale, numerica)\n",
    "inter_annotator_agreement(df, 'Q1.5', 'Marinella', 'ChatGPT4AsAnnotator', opzionale, numerica)\n",
    "inter_annotator_agreement(df, 'Q1.5', 'Angelo', 'ChatGPT4AsAnnotator', opzionale, numerica)\n"
   ]
  },
  {
   "cell_type": "markdown",
   "metadata": {},
   "source": [
    "# Q 1.6"
   ]
  },
  {
   "cell_type": "code",
   "execution_count": 24,
   "metadata": {},
   "outputs": [
    {
     "name": "stdout",
     "output_type": "stream",
     "text": [
      "Kappa tra Manuel e Marinella per Q1.6: 0.4581893572909468\n",
      "Kappa tra Manuel e Angelo per Q1.6: 0.5835383583091032\n",
      "----------------------------------\n",
      "Kappa tra Manuel e ChatGPT4AsAnnotator per Q1.6: 0.08881730326737236\n",
      "Kappa tra Marinella e ChatGPT4AsAnnotator per Q1.6: 0.06939007261751806\n",
      "Kappa tra Angelo e ChatGPT4AsAnnotator per Q1.6: 0.08173448590905896\n"
     ]
    }
   ],
   "source": [
    "opzionale = False\n",
    "numerica = True\n",
    "\n",
    "inter_annotator_agreement(df, 'Q1.6', 'Manuel', 'Marinella', opzionale, numerica)\n",
    "inter_annotator_agreement(df, 'Q1.6', 'Manuel', 'Angelo', opzionale, numerica)\n",
    "print('----------------------------------')\n",
    "inter_annotator_agreement(df, 'Q1.6', 'Manuel', 'ChatGPT4AsAnnotator', opzionale, numerica)\n",
    "inter_annotator_agreement(df, 'Q1.6', 'Marinella', 'ChatGPT4AsAnnotator', opzionale, numerica)\n",
    "inter_annotator_agreement(df, 'Q1.6', 'Angelo', 'ChatGPT4AsAnnotator', opzionale, numerica)\n"
   ]
  },
  {
   "cell_type": "markdown",
   "metadata": {},
   "source": [
    "# Q 1.7"
   ]
  },
  {
   "cell_type": "code",
   "execution_count": 25,
   "metadata": {},
   "outputs": [
    {
     "name": "stdout",
     "output_type": "stream",
     "text": [
      "Kappa tra Manuel e Marinella per Q1.7: 0.6512714063310846\n"
     ]
    },
    {
     "name": "stdout",
     "output_type": "stream",
     "text": [
      "Kappa tra Manuel e Angelo per Q1.7: 0.6860986547085202\n",
      "----------------------------------\n",
      "Kappa tra Manuel e ChatGPT4AsAnnotator per Q1.7: 0.4621803499327052\n",
      "Kappa tra Marinella e ChatGPT4AsAnnotator per Q1.7: 0.4023848634178987\n",
      "Kappa tra Angelo e ChatGPT4AsAnnotator per Q1.7: 0.3869915908700875\n"
     ]
    }
   ],
   "source": [
    "opzionale = False\n",
    "\n",
    "inter_annotator_agreement(df, 'Q1.7', 'Manuel', 'Marinella', opzionale)\n",
    "inter_annotator_agreement(df, 'Q1.7', 'Manuel', 'Angelo', opzionale)\n",
    "print('----------------------------------')\n",
    "inter_annotator_agreement(df, 'Q1.7', 'Manuel', 'ChatGPT4AsAnnotator', opzionale)\n",
    "inter_annotator_agreement(df, 'Q1.7', 'Marinella', 'ChatGPT4AsAnnotator', opzionale)\n",
    "inter_annotator_agreement(df, 'Q1.7', 'Angelo', 'ChatGPT4AsAnnotator', opzionale)\n"
   ]
  },
  {
   "cell_type": "markdown",
   "metadata": {},
   "source": [
    "# Q 1.7.1"
   ]
  },
  {
   "cell_type": "code",
   "execution_count": 26,
   "metadata": {},
   "outputs": [
    {
     "name": "stdout",
     "output_type": "stream",
     "text": [
      "Kappa tra Manuel e Marinella per Q1.7.1: 0.5134665508253693\n",
      "Kappa tra Manuel e Angelo per Q1.7.1: 0.49468256525942633\n",
      "----------------------------------\n",
      "Kappa tra Manuel e ChatGPT4AsAnnotator per Q1.7.1: 0.011904143057649419\n",
      "Kappa tra Marinella e ChatGPT4AsAnnotator per Q1.7.1: 0.016429506279413086\n",
      "Kappa tra Angelo e ChatGPT4AsAnnotator per Q1.7.1: 0.00037254038676481915\n"
     ]
    }
   ],
   "source": [
    "opzionale = True\n",
    "\n",
    "inter_annotator_agreement(df, 'Q1.7.1', 'Manuel', 'Marinella', opzionale)\n",
    "inter_annotator_agreement(df, 'Q1.7.1', 'Manuel', 'Angelo', opzionale)\n",
    "print('----------------------------------')\n",
    "inter_annotator_agreement(df, 'Q1.7.1', 'Manuel', 'ChatGPT4AsAnnotator', opzionale)\n",
    "inter_annotator_agreement(df, 'Q1.7.1', 'Marinella', 'ChatGPT4AsAnnotator', opzionale)\n",
    "inter_annotator_agreement(df, 'Q1.7.1', 'Angelo', 'ChatGPT4AsAnnotator', opzionale)\n"
   ]
  }
 ],
 "metadata": {
  "kernelspec": {
   "display_name": ".venv",
   "language": "python",
   "name": "python3"
  },
  "language_info": {
   "codemirror_mode": {
    "name": "ipython",
    "version": 3
   },
   "file_extension": ".py",
   "mimetype": "text/x-python",
   "name": "python",
   "nbconvert_exporter": "python",
   "pygments_lexer": "ipython3",
   "version": "3.12.3"
  }
 },
 "nbformat": 4,
 "nbformat_minor": 2
}
