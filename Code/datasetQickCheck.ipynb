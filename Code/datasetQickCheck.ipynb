{
 "cells": [
  {
   "cell_type": "code",
   "execution_count": 3,
   "metadata": {},
   "outputs": [],
   "source": [
    "import pandas as pd\n",
    "\n",
    "df = pd.read_csv('merged_checked.csv')\n"
   ]
  },
  {
   "cell_type": "code",
   "execution_count": 5,
   "metadata": {},
   "outputs": [
    {
     "data": {
      "text/plain": [
       "Q1.3\n",
       "1     408\n",
       "10    135\n",
       "11     89\n",
       "0      54\n",
       "14     40\n",
       "31     36\n",
       "6      26\n",
       "20     21\n",
       "2      20\n",
       "28     19\n",
       "44     17\n",
       "19     15\n",
       "17     12\n",
       "8      12\n",
       "26      7\n",
       "34      6\n",
       "3       6\n",
       "9       5\n",
       "5       5\n",
       "37      5\n",
       "4       4\n",
       "32      4\n",
       "23      4\n",
       "40      3\n",
       "7       3\n",
       "18      2\n",
       "38      2\n",
       "27      2\n",
       "24      2\n",
       "33      2\n",
       "13      2\n",
       "15      2\n",
       "39      1\n",
       "43      1\n",
       "36      1\n",
       "35      1\n",
       "29      1\n",
       "42      1\n",
       "21      1\n",
       "12      1\n",
       "16      1\n",
       "22      1\n",
       "25      1\n",
       "30      1\n",
       "Name: count, dtype: int64"
      ]
     },
     "execution_count": 5,
     "metadata": {},
     "output_type": "execute_result"
    }
   ],
   "source": [
    "value_counts = df['Q1.3'].value_counts()\n",
    "\n",
    "value_counts"
   ]
  },
  {
   "cell_type": "code",
   "execution_count": null,
   "metadata": {},
   "outputs": [],
   "source": []
  }
 ],
 "metadata": {
  "kernelspec": {
   "display_name": ".venv",
   "language": "python",
   "name": "python3"
  },
  "language_info": {
   "codemirror_mode": {
    "name": "ipython",
    "version": 3
   },
   "file_extension": ".py",
   "mimetype": "text/x-python",
   "name": "python",
   "nbconvert_exporter": "python",
   "pygments_lexer": "ipython3",
   "version": "3.10.12"
  }
 },
 "nbformat": 4,
 "nbformat_minor": 2
}
